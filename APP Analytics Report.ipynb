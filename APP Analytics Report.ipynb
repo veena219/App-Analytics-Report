{
 "cells": [
  {
   "cell_type": "code",
   "execution_count": 1,
   "id": "74204a9d",
   "metadata": {},
   "outputs": [],
   "source": [
    "import pandas as pd\n",
    "import numpy as np\n",
    "import seaborn as sns\n",
    "import matplotlib.pyplot as plt"
   ]
  },
  {
   "cell_type": "markdown",
   "id": "74ba51ba",
   "metadata": {},
   "source": [
    "# User_Acquisition"
   ]
  },
  {
   "cell_type": "code",
   "execution_count": 2,
   "id": "517277e4",
   "metadata": {},
   "outputs": [],
   "source": [
    "df=pd.read_excel(\"C:\\\\Users\\\\mevee\\\\Downloads\\\\App_Analytics_Report.xlsx\", sheet_name='User_Acquisition')"
   ]
  },
  {
   "cell_type": "code",
   "execution_count": 3,
   "id": "2af67292",
   "metadata": {},
   "outputs": [
    {
     "data": {
      "text/html": [
       "<div>\n",
       "<style scoped>\n",
       "    .dataframe tbody tr th:only-of-type {\n",
       "        vertical-align: middle;\n",
       "    }\n",
       "\n",
       "    .dataframe tbody tr th {\n",
       "        vertical-align: top;\n",
       "    }\n",
       "\n",
       "    .dataframe thead th {\n",
       "        text-align: right;\n",
       "    }\n",
       "</style>\n",
       "<table border=\"1\" class=\"dataframe\">\n",
       "  <thead>\n",
       "    <tr style=\"text-align: right;\">\n",
       "      <th></th>\n",
       "      <th>First user default channel group</th>\n",
       "      <th>New users</th>\n",
       "      <th>Engaged sessions</th>\n",
       "      <th>Engagement rate</th>\n",
       "      <th>Engaged sessions per user</th>\n",
       "      <th>Average engagement time</th>\n",
       "      <th>Event count</th>\n",
       "      <th>Conversions</th>\n",
       "      <th>Total revenue</th>\n",
       "    </tr>\n",
       "  </thead>\n",
       "  <tbody>\n",
       "    <tr>\n",
       "      <th>0</th>\n",
       "      <td>Display</td>\n",
       "      <td>9957</td>\n",
       "      <td>12008</td>\n",
       "      <td>0.544457</td>\n",
       "      <td>1.206107</td>\n",
       "      <td>58.86209</td>\n",
       "      <td>204820</td>\n",
       "      <td>37434</td>\n",
       "      <td>0</td>\n",
       "    </tr>\n",
       "    <tr>\n",
       "      <th>1</th>\n",
       "      <td>Organic Search</td>\n",
       "      <td>7652</td>\n",
       "      <td>18141</td>\n",
       "      <td>0.813680</td>\n",
       "      <td>2.367041</td>\n",
       "      <td>534.31280</td>\n",
       "      <td>770710</td>\n",
       "      <td>109801</td>\n",
       "      <td>0</td>\n",
       "    </tr>\n",
       "    <tr>\n",
       "      <th>2</th>\n",
       "      <td>Paid Search</td>\n",
       "      <td>3025</td>\n",
       "      <td>4408</td>\n",
       "      <td>0.474284</td>\n",
       "      <td>1.458154</td>\n",
       "      <td>102.23780</td>\n",
       "      <td>81997</td>\n",
       "      <td>14770</td>\n",
       "      <td>0</td>\n",
       "    </tr>\n",
       "    <tr>\n",
       "      <th>3</th>\n",
       "      <td>Direct</td>\n",
       "      <td>1903</td>\n",
       "      <td>4975</td>\n",
       "      <td>0.318808</td>\n",
       "      <td>2.261364</td>\n",
       "      <td>1128.88100</td>\n",
       "      <td>227434</td>\n",
       "      <td>31093</td>\n",
       "      <td>0</td>\n",
       "    </tr>\n",
       "    <tr>\n",
       "      <th>4</th>\n",
       "      <td>Unassigned</td>\n",
       "      <td>325</td>\n",
       "      <td>1619</td>\n",
       "      <td>0.813159</td>\n",
       "      <td>4.981538</td>\n",
       "      <td>798.34150</td>\n",
       "      <td>33320</td>\n",
       "      <td>789</td>\n",
       "      <td>0</td>\n",
       "    </tr>\n",
       "    <tr>\n",
       "      <th>5</th>\n",
       "      <td>Organic Social</td>\n",
       "      <td>10</td>\n",
       "      <td>13</td>\n",
       "      <td>0.722222</td>\n",
       "      <td>1.300000</td>\n",
       "      <td>145.30000</td>\n",
       "      <td>248</td>\n",
       "      <td>27</td>\n",
       "      <td>0</td>\n",
       "    </tr>\n",
       "  </tbody>\n",
       "</table>\n",
       "</div>"
      ],
      "text/plain": [
       "  First user default channel group  New users  Engaged sessions  \\\n",
       "0                          Display       9957             12008   \n",
       "1                   Organic Search       7652             18141   \n",
       "2                      Paid Search       3025              4408   \n",
       "3                           Direct       1903              4975   \n",
       "4                       Unassigned        325              1619   \n",
       "5                   Organic Social         10                13   \n",
       "\n",
       "   Engagement rate  Engaged sessions per user  Average engagement time  \\\n",
       "0         0.544457                   1.206107                 58.86209   \n",
       "1         0.813680                   2.367041                534.31280   \n",
       "2         0.474284                   1.458154                102.23780   \n",
       "3         0.318808                   2.261364               1128.88100   \n",
       "4         0.813159                   4.981538                798.34150   \n",
       "5         0.722222                   1.300000                145.30000   \n",
       "\n",
       "   Event count  Conversions  Total revenue  \n",
       "0       204820        37434              0  \n",
       "1       770710       109801              0  \n",
       "2        81997        14770              0  \n",
       "3       227434        31093              0  \n",
       "4        33320          789              0  \n",
       "5          248           27              0  "
      ]
     },
     "execution_count": 3,
     "metadata": {},
     "output_type": "execute_result"
    }
   ],
   "source": [
    "df"
   ]
  },
  {
   "cell_type": "code",
   "execution_count": 4,
   "id": "fcd2afde",
   "metadata": {},
   "outputs": [
    {
     "data": {
      "text/html": [
       "<div>\n",
       "<style scoped>\n",
       "    .dataframe tbody tr th:only-of-type {\n",
       "        vertical-align: middle;\n",
       "    }\n",
       "\n",
       "    .dataframe tbody tr th {\n",
       "        vertical-align: top;\n",
       "    }\n",
       "\n",
       "    .dataframe thead th {\n",
       "        text-align: right;\n",
       "    }\n",
       "</style>\n",
       "<table border=\"1\" class=\"dataframe\">\n",
       "  <thead>\n",
       "    <tr style=\"text-align: right;\">\n",
       "      <th></th>\n",
       "      <th>New users</th>\n",
       "      <th>Engaged sessions</th>\n",
       "      <th>Engagement rate</th>\n",
       "      <th>Engaged sessions per user</th>\n",
       "      <th>Average engagement time</th>\n",
       "      <th>Event count</th>\n",
       "      <th>Conversions</th>\n",
       "      <th>Total revenue</th>\n",
       "    </tr>\n",
       "  </thead>\n",
       "  <tbody>\n",
       "    <tr>\n",
       "      <th>count</th>\n",
       "      <td>6.000000</td>\n",
       "      <td>6.000000</td>\n",
       "      <td>6.000000</td>\n",
       "      <td>6.000000</td>\n",
       "      <td>6.000000</td>\n",
       "      <td>6.000000</td>\n",
       "      <td>6.000000</td>\n",
       "      <td>6.0</td>\n",
       "    </tr>\n",
       "    <tr>\n",
       "      <th>mean</th>\n",
       "      <td>3812.000000</td>\n",
       "      <td>6860.666667</td>\n",
       "      <td>0.614435</td>\n",
       "      <td>2.262367</td>\n",
       "      <td>461.322532</td>\n",
       "      <td>219754.833333</td>\n",
       "      <td>32319.000000</td>\n",
       "      <td>0.0</td>\n",
       "    </tr>\n",
       "    <tr>\n",
       "      <th>std</th>\n",
       "      <td>4083.739659</td>\n",
       "      <td>6894.604867</td>\n",
       "      <td>0.201367</td>\n",
       "      <td>1.420806</td>\n",
       "      <td>437.111008</td>\n",
       "      <td>284869.104021</td>\n",
       "      <td>40929.227185</td>\n",
       "      <td>0.0</td>\n",
       "    </tr>\n",
       "    <tr>\n",
       "      <th>min</th>\n",
       "      <td>10.000000</td>\n",
       "      <td>13.000000</td>\n",
       "      <td>0.318808</td>\n",
       "      <td>1.206107</td>\n",
       "      <td>58.862090</td>\n",
       "      <td>248.000000</td>\n",
       "      <td>27.000000</td>\n",
       "      <td>0.0</td>\n",
       "    </tr>\n",
       "    <tr>\n",
       "      <th>25%</th>\n",
       "      <td>719.500000</td>\n",
       "      <td>2316.250000</td>\n",
       "      <td>0.491827</td>\n",
       "      <td>1.339538</td>\n",
       "      <td>113.003350</td>\n",
       "      <td>45489.250000</td>\n",
       "      <td>4284.250000</td>\n",
       "      <td>0.0</td>\n",
       "    </tr>\n",
       "    <tr>\n",
       "      <th>50%</th>\n",
       "      <td>2464.000000</td>\n",
       "      <td>4691.500000</td>\n",
       "      <td>0.633339</td>\n",
       "      <td>1.859759</td>\n",
       "      <td>339.806400</td>\n",
       "      <td>143408.500000</td>\n",
       "      <td>22931.500000</td>\n",
       "      <td>0.0</td>\n",
       "    </tr>\n",
       "    <tr>\n",
       "      <th>75%</th>\n",
       "      <td>6495.250000</td>\n",
       "      <td>10249.750000</td>\n",
       "      <td>0.790425</td>\n",
       "      <td>2.340622</td>\n",
       "      <td>732.334325</td>\n",
       "      <td>221780.500000</td>\n",
       "      <td>35848.750000</td>\n",
       "      <td>0.0</td>\n",
       "    </tr>\n",
       "    <tr>\n",
       "      <th>max</th>\n",
       "      <td>9957.000000</td>\n",
       "      <td>18141.000000</td>\n",
       "      <td>0.813680</td>\n",
       "      <td>4.981538</td>\n",
       "      <td>1128.881000</td>\n",
       "      <td>770710.000000</td>\n",
       "      <td>109801.000000</td>\n",
       "      <td>0.0</td>\n",
       "    </tr>\n",
       "  </tbody>\n",
       "</table>\n",
       "</div>"
      ],
      "text/plain": [
       "         New users  Engaged sessions  Engagement rate  \\\n",
       "count     6.000000          6.000000         6.000000   \n",
       "mean   3812.000000       6860.666667         0.614435   \n",
       "std    4083.739659       6894.604867         0.201367   \n",
       "min      10.000000         13.000000         0.318808   \n",
       "25%     719.500000       2316.250000         0.491827   \n",
       "50%    2464.000000       4691.500000         0.633339   \n",
       "75%    6495.250000      10249.750000         0.790425   \n",
       "max    9957.000000      18141.000000         0.813680   \n",
       "\n",
       "       Engaged sessions per user  Average engagement time    Event count  \\\n",
       "count                   6.000000                 6.000000       6.000000   \n",
       "mean                    2.262367               461.322532  219754.833333   \n",
       "std                     1.420806               437.111008  284869.104021   \n",
       "min                     1.206107                58.862090     248.000000   \n",
       "25%                     1.339538               113.003350   45489.250000   \n",
       "50%                     1.859759               339.806400  143408.500000   \n",
       "75%                     2.340622               732.334325  221780.500000   \n",
       "max                     4.981538              1128.881000  770710.000000   \n",
       "\n",
       "         Conversions  Total revenue  \n",
       "count       6.000000            6.0  \n",
       "mean    32319.000000            0.0  \n",
       "std     40929.227185            0.0  \n",
       "min        27.000000            0.0  \n",
       "25%      4284.250000            0.0  \n",
       "50%     22931.500000            0.0  \n",
       "75%     35848.750000            0.0  \n",
       "max    109801.000000            0.0  "
      ]
     },
     "execution_count": 4,
     "metadata": {},
     "output_type": "execute_result"
    }
   ],
   "source": [
    "df.describe()"
   ]
  },
  {
   "cell_type": "code",
   "execution_count": 5,
   "id": "42950c95",
   "metadata": {},
   "outputs": [
    {
     "data": {
      "text/plain": [
       "First user default channel group    0\n",
       "New users                           0\n",
       "Engaged sessions                    0\n",
       "Engagement rate                     0\n",
       "Engaged sessions per user           0\n",
       "Average engagement time             0\n",
       "Event count                         0\n",
       "Conversions                         0\n",
       "Total revenue                       0\n",
       "dtype: int64"
      ]
     },
     "execution_count": 5,
     "metadata": {},
     "output_type": "execute_result"
    }
   ],
   "source": [
    "df.isna().sum()"
   ]
  },
  {
   "cell_type": "code",
   "execution_count": 6,
   "id": "7dc81dae",
   "metadata": {},
   "outputs": [
    {
     "data": {
      "text/plain": [
       "0"
      ]
     },
     "execution_count": 6,
     "metadata": {},
     "output_type": "execute_result"
    }
   ],
   "source": [
    "df.duplicated().sum()"
   ]
  },
  {
   "cell_type": "code",
   "execution_count": 7,
   "id": "ca9e5cf0",
   "metadata": {},
   "outputs": [
    {
     "name": "stdout",
     "output_type": "stream",
     "text": [
      "<class 'pandas.core.frame.DataFrame'>\n",
      "RangeIndex: 6 entries, 0 to 5\n",
      "Data columns (total 9 columns):\n",
      " #   Column                            Non-Null Count  Dtype  \n",
      "---  ------                            --------------  -----  \n",
      " 0   First user default channel group  6 non-null      object \n",
      " 1   New users                         6 non-null      int64  \n",
      " 2   Engaged sessions                  6 non-null      int64  \n",
      " 3   Engagement rate                   6 non-null      float64\n",
      " 4   Engaged sessions per user         6 non-null      float64\n",
      " 5   Average engagement time           6 non-null      float64\n",
      " 6   Event count                       6 non-null      int64  \n",
      " 7   Conversions                       6 non-null      int64  \n",
      " 8   Total revenue                     6 non-null      int64  \n",
      "dtypes: float64(3), int64(5), object(1)\n",
      "memory usage: 560.0+ bytes\n"
     ]
    }
   ],
   "source": [
    "df.info()"
   ]
  },
  {
   "cell_type": "code",
   "execution_count": 8,
   "id": "33fb6572",
   "metadata": {},
   "outputs": [
    {
     "data": {
      "image/png": "[encoded data removed]",
      "text/plain": [
       "<Figure size 432x288 with 1 Axes>"
      ]
     },
     "metadata": {
      "needs_background": "light"
     },
     "output_type": "display_data"
    },
    {
     "data": {
      "image/png": "[encoded data removed]",
      "text/plain": [
       "<Figure size 432x288 with 1 Axes>"
      ]
     },
     "metadata": {
      "needs_background": "light"
     },
     "output_type": "display_data"
    },
    {
     "data": {
      "image/png": "[encoded data removed]",
      "text/plain": [
       "<Figure size 432x288 with 1 Axes>"
      ]
     },
     "metadata": {
      "needs_background": "light"
     },
     "output_type": "display_data"
    },
    {
     "data": {
      "image/png": "[encoded data removed]",
      "text/plain": [
       "<Figure size 432x288 with 1 Axes>"
      ]
     },
     "metadata": {
      "needs_background": "light"
     },
     "output_type": "display_data"
    },
    {
     "data": {
      "image/png": "[encoded data removed]",
      "text/plain": [
       "<Figure size 432x288 with 1 Axes>"
      ]
     },
     "metadata": {
      "needs_background": "light"
     },
     "output_type": "display_data"
    },
    {
     "data": {
      "image/png": "[encoded data removed]",
      "text/plain": [
       "<Figure size 432x288 with 1 Axes>"
      ]
     },
     "metadata": {
      "needs_background": "light"
     },
     "output_type": "display_data"
    },
    {
     "data": {
      "image/png": "[encoded data removed]",
      "text/plain": [
       "<Figure size 432x288 with 1 Axes>"
      ]
     },
     "metadata": {
      "needs_background": "light"
     },
     "output_type": "display_data"
    },
    {
     "data": {
      "image/png": "[encoded data removed]",
      "text/plain": [
       "<Figure size 432x288 with 1 Axes>"
      ]
     },
     "metadata": {
      "needs_background": "light"
     },
     "output_type": "display_data"
    }
   ],
   "source": [
    "for i in df.columns:\n",
    "    if df[i].dtype == \"float64\" or df[i].dtype == \"int64\":\n",
    "        sns.boxplot(y=df[i], color='red')\n",
    "        plt.show();"
   ]
  },
  {
   "cell_type": "code",
   "execution_count": 9,
   "id": "ef8e56b2",
   "metadata": {},
   "outputs": [
    {
     "data": {
      "image/png": "[encoded data removed]",
      "text/plain": [
       "<Figure size 432x288 with 1 Axes>"
      ]
     },
     "metadata": {
      "needs_background": "light"
     },
     "output_type": "display_data"
    }
   ],
   "source": [
    "plt.barh(df['First user default channel group'], df['New users'])\n",
    "plt.show()"
   ]
  },
  {
   "cell_type": "markdown",
   "id": "60c7c4b3",
   "metadata": {},
   "source": [
    "# The majority of users are primarily directed to the website through display advertising. And the second main channel grouping for users is organic search, they found the website through organic search engine results"
   ]
  },
  {
   "cell_type": "markdown",
   "id": "6481135b",
   "metadata": {},
   "source": [
    "# Traffic Aquisition"
   ]
  },
  {
   "cell_type": "code",
   "execution_count": 10,
   "id": "87c74836",
   "metadata": {},
   "outputs": [],
   "source": [
    "df1=pd.read_excel(\"C:\\\\Users\\\\mevee\\\\Downloads\\\\App_Analytics_Report.xlsx\", sheet_name='Traffic Aquisition')"
   ]
  },
  {
   "cell_type": "code",
   "execution_count": 11,
   "id": "d005ede9",
   "metadata": {},
   "outputs": [
    {
     "data": {
      "text/html": [
       "<div>\n",
       "<style scoped>\n",
       "    .dataframe tbody tr th:only-of-type {\n",
       "        vertical-align: middle;\n",
       "    }\n",
       "\n",
       "    .dataframe tbody tr th {\n",
       "        vertical-align: top;\n",
       "    }\n",
       "\n",
       "    .dataframe thead th {\n",
       "        text-align: right;\n",
       "    }\n",
       "</style>\n",
       "<table border=\"1\" class=\"dataframe\">\n",
       "  <thead>\n",
       "    <tr style=\"text-align: right;\">\n",
       "      <th></th>\n",
       "      <th>Session default channel group</th>\n",
       "      <th>Users</th>\n",
       "      <th>Sessions</th>\n",
       "      <th>Engaged sessions</th>\n",
       "      <th>Average engagement time per session</th>\n",
       "      <th>Engaged sessions per user</th>\n",
       "      <th>Events per session</th>\n",
       "      <th>Engagement rate</th>\n",
       "      <th>Event count</th>\n",
       "      <th>Conversions</th>\n",
       "      <th>Total revenue</th>\n",
       "    </tr>\n",
       "  </thead>\n",
       "  <tbody>\n",
       "    <tr>\n",
       "      <th>0</th>\n",
       "      <td>Unassigned</td>\n",
       "      <td>20263</td>\n",
       "      <td>13448</td>\n",
       "      <td>1481</td>\n",
       "      <td>34.11704</td>\n",
       "      <td>0.073089</td>\n",
       "      <td>18.023130</td>\n",
       "      <td>0.110128</td>\n",
       "      <td>242375</td>\n",
       "      <td>114161</td>\n",
       "      <td>0</td>\n",
       "    </tr>\n",
       "    <tr>\n",
       "      <th>1</th>\n",
       "      <td>Display</td>\n",
       "      <td>9613</td>\n",
       "      <td>18292</td>\n",
       "      <td>10613</td>\n",
       "      <td>28.52198</td>\n",
       "      <td>1.104026</td>\n",
       "      <td>9.069320</td>\n",
       "      <td>0.580199</td>\n",
       "      <td>165896</td>\n",
       "      <td>20031</td>\n",
       "      <td>0</td>\n",
       "    </tr>\n",
       "    <tr>\n",
       "      <th>2</th>\n",
       "      <td>Organic Search</td>\n",
       "      <td>7689</td>\n",
       "      <td>21241</td>\n",
       "      <td>17814</td>\n",
       "      <td>195.94340</td>\n",
       "      <td>2.316816</td>\n",
       "      <td>29.302290</td>\n",
       "      <td>0.838661</td>\n",
       "      <td>622410</td>\n",
       "      <td>33612</td>\n",
       "      <td>0</td>\n",
       "    </tr>\n",
       "    <tr>\n",
       "      <th>3</th>\n",
       "      <td>Direct</td>\n",
       "      <td>4042</td>\n",
       "      <td>13220</td>\n",
       "      <td>7649</td>\n",
       "      <td>177.17060</td>\n",
       "      <td>1.892380</td>\n",
       "      <td>17.135850</td>\n",
       "      <td>0.578593</td>\n",
       "      <td>226536</td>\n",
       "      <td>18496</td>\n",
       "      <td>0</td>\n",
       "    </tr>\n",
       "    <tr>\n",
       "      <th>4</th>\n",
       "      <td>Paid Search</td>\n",
       "      <td>2909</td>\n",
       "      <td>6788</td>\n",
       "      <td>3452</td>\n",
       "      <td>36.65321</td>\n",
       "      <td>1.186662</td>\n",
       "      <td>8.989982</td>\n",
       "      <td>0.508544</td>\n",
       "      <td>61024</td>\n",
       "      <td>7595</td>\n",
       "      <td>0</td>\n",
       "    </tr>\n",
       "    <tr>\n",
       "      <th>5</th>\n",
       "      <td>Organic Social</td>\n",
       "      <td>11</td>\n",
       "      <td>16</td>\n",
       "      <td>12</td>\n",
       "      <td>60.06250</td>\n",
       "      <td>1.090909</td>\n",
       "      <td>18.000000</td>\n",
       "      <td>0.750000</td>\n",
       "      <td>288</td>\n",
       "      <td>19</td>\n",
       "      <td>0</td>\n",
       "    </tr>\n",
       "  </tbody>\n",
       "</table>\n",
       "</div>"
      ],
      "text/plain": [
       "  Session default channel group  Users  Sessions  Engaged sessions  \\\n",
       "0                    Unassigned  20263     13448              1481   \n",
       "1                       Display   9613     18292             10613   \n",
       "2                Organic Search   7689     21241             17814   \n",
       "3                        Direct   4042     13220              7649   \n",
       "4                   Paid Search   2909      6788              3452   \n",
       "5                Organic Social     11        16                12   \n",
       "\n",
       "   Average engagement time per session  Engaged sessions per user  \\\n",
       "0                             34.11704                   0.073089   \n",
       "1                             28.52198                   1.104026   \n",
       "2                            195.94340                   2.316816   \n",
       "3                            177.17060                   1.892380   \n",
       "4                             36.65321                   1.186662   \n",
       "5                             60.06250                   1.090909   \n",
       "\n",
       "   Events per session  Engagement rate  Event count  Conversions  \\\n",
       "0           18.023130         0.110128       242375       114161   \n",
       "1            9.069320         0.580199       165896        20031   \n",
       "2           29.302290         0.838661       622410        33612   \n",
       "3           17.135850         0.578593       226536        18496   \n",
       "4            8.989982         0.508544        61024         7595   \n",
       "5           18.000000         0.750000          288           19   \n",
       "\n",
       "   Total revenue  \n",
       "0              0  \n",
       "1              0  \n",
       "2              0  \n",
       "3              0  \n",
       "4              0  \n",
       "5              0  "
      ]
     },
     "execution_count": 11,
     "metadata": {},
     "output_type": "execute_result"
    }
   ],
   "source": [
    "df1"
   ]
  },
  {
   "cell_type": "code",
   "execution_count": 12,
   "id": "7d12b7a3",
   "metadata": {},
   "outputs": [
    {
     "data": {
      "image/png": "[encoded data removed]",
      "text/plain": [
       "<Figure size 720x360 with 1 Axes>"
      ]
     },
     "metadata": {
      "needs_background": "light"
     },
     "output_type": "display_data"
    }
   ],
   "source": [
    "plt.figure(figsize=(10,5))\n",
    "index = np.arange(len(df1['Session default channel group']))\n",
    "width = 0.4\n",
    "plt.bar(index, df1['Users'], width=width, align='edge', label=\"Users\")\n",
    "plt.bar(index + width, df1['Sessions'], width=width, align='edge', label=\"Sessions\")\n",
    "plt.xticks(index + width, df1['Session default channel group'])\n",
    "plt.legend()\n",
    "plt.show()\n",
    "\n"
   ]
  },
  {
   "cell_type": "markdown",
   "id": "60a5ae31",
   "metadata": {},
   "source": [
    "# The \"Unassigned\" channel group has a considerable number of users (20,263) and sessions (13,448). "
   ]
  },
  {
   "cell_type": "markdown",
   "id": "525474b1",
   "metadata": {},
   "source": [
    "# Event Report"
   ]
  },
  {
   "cell_type": "code",
   "execution_count": 13,
   "id": "3ab56bbc",
   "metadata": {},
   "outputs": [],
   "source": [
    "df2=pd.read_excel(\"C:\\\\Users\\\\mevee\\\\Downloads\\\\App_Analytics_Report.xlsx\", sheet_name='Event Report')"
   ]
  },
  {
   "cell_type": "code",
   "execution_count": 14,
   "id": "45a3e0bb",
   "metadata": {},
   "outputs": [
    {
     "data": {
      "text/html": [
       "<div>\n",
       "<style scoped>\n",
       "    .dataframe tbody tr th:only-of-type {\n",
       "        vertical-align: middle;\n",
       "    }\n",
       "\n",
       "    .dataframe tbody tr th {\n",
       "        vertical-align: top;\n",
       "    }\n",
       "\n",
       "    .dataframe thead th {\n",
       "        text-align: right;\n",
       "    }\n",
       "</style>\n",
       "<table border=\"1\" class=\"dataframe\">\n",
       "  <thead>\n",
       "    <tr style=\"text-align: right;\">\n",
       "      <th></th>\n",
       "      <th>Event name</th>\n",
       "      <th>Event count</th>\n",
       "      <th>Total users</th>\n",
       "      <th>Event count per user</th>\n",
       "      <th>Total revenue</th>\n",
       "    </tr>\n",
       "  </thead>\n",
       "  <tbody>\n",
       "    <tr>\n",
       "      <th>0</th>\n",
       "      <td>screen_view</td>\n",
       "      <td>694729</td>\n",
       "      <td>23254</td>\n",
       "      <td>30.865870</td>\n",
       "      <td>0</td>\n",
       "    </tr>\n",
       "    <tr>\n",
       "      <th>1</th>\n",
       "      <td>notification_receive</td>\n",
       "      <td>125146</td>\n",
       "      <td>1700</td>\n",
       "      <td>138.896800</td>\n",
       "      <td>0</td>\n",
       "    </tr>\n",
       "    <tr>\n",
       "      <th>2</th>\n",
       "      <td>user_engagement</td>\n",
       "      <td>124836</td>\n",
       "      <td>22699</td>\n",
       "      <td>5.622230</td>\n",
       "      <td>0</td>\n",
       "    </tr>\n",
       "    <tr>\n",
       "      <th>3</th>\n",
       "      <td>notification_dismiss</td>\n",
       "      <td>70128</td>\n",
       "      <td>1369</td>\n",
       "      <td>144.000000</td>\n",
       "      <td>0</td>\n",
       "    </tr>\n",
       "    <tr>\n",
       "      <th>4</th>\n",
       "      <td>session_start</td>\n",
       "      <td>61163</td>\n",
       "      <td>23226</td>\n",
       "      <td>3.121357</td>\n",
       "      <td>0</td>\n",
       "    </tr>\n",
       "    <tr>\n",
       "      <th>...</th>\n",
       "      <td>...</td>\n",
       "      <td>...</td>\n",
       "      <td>...</td>\n",
       "      <td>...</td>\n",
       "      <td>...</td>\n",
       "    </tr>\n",
       "    <tr>\n",
       "      <th>374</th>\n",
       "      <td>Promilo119_myProfile_mediator</td>\n",
       "      <td>1</td>\n",
       "      <td>1</td>\n",
       "      <td>1.000000</td>\n",
       "      <td>0</td>\n",
       "    </tr>\n",
       "    <tr>\n",
       "      <th>375</th>\n",
       "      <td>Promilo_feeds</td>\n",
       "      <td>1</td>\n",
       "      <td>1</td>\n",
       "      <td>1.000000</td>\n",
       "      <td>0</td>\n",
       "    </tr>\n",
       "    <tr>\n",
       "      <th>376</th>\n",
       "      <td>feeds</td>\n",
       "      <td>1</td>\n",
       "      <td>1</td>\n",
       "      <td>1.000000</td>\n",
       "      <td>0</td>\n",
       "    </tr>\n",
       "    <tr>\n",
       "      <th>377</th>\n",
       "      <td>my_interests_screen</td>\n",
       "      <td>1</td>\n",
       "      <td>1</td>\n",
       "      <td>1.000000</td>\n",
       "      <td>0</td>\n",
       "    </tr>\n",
       "    <tr>\n",
       "      <th>378</th>\n",
       "      <td>(not set)</td>\n",
       "      <td>0</td>\n",
       "      <td>22269</td>\n",
       "      <td>0.000000</td>\n",
       "      <td>0</td>\n",
       "    </tr>\n",
       "  </tbody>\n",
       "</table>\n",
       "<p>379 rows × 5 columns</p>\n",
       "</div>"
      ],
      "text/plain": [
       "                        Event name  Event count  Total users  \\\n",
       "0                      screen_view       694729        23254   \n",
       "1             notification_receive       125146         1700   \n",
       "2                  user_engagement       124836        22699   \n",
       "3             notification_dismiss        70128         1369   \n",
       "4                    session_start        61163        23226   \n",
       "..                             ...          ...          ...   \n",
       "374  Promilo119_myProfile_mediator            1            1   \n",
       "375                  Promilo_feeds            1            1   \n",
       "376                          feeds            1            1   \n",
       "377            my_interests_screen            1            1   \n",
       "378                      (not set)            0        22269   \n",
       "\n",
       "     Event count per user  Total revenue  \n",
       "0               30.865870              0  \n",
       "1              138.896800              0  \n",
       "2                5.622230              0  \n",
       "3              144.000000              0  \n",
       "4                3.121357              0  \n",
       "..                    ...            ...  \n",
       "374              1.000000              0  \n",
       "375              1.000000              0  \n",
       "376              1.000000              0  \n",
       "377              1.000000              0  \n",
       "378              0.000000              0  \n",
       "\n",
       "[379 rows x 5 columns]"
      ]
     },
     "execution_count": 14,
     "metadata": {},
     "output_type": "execute_result"
    }
   ],
   "source": [
    "df2"
   ]
  },
  {
   "cell_type": "code",
   "execution_count": 15,
   "id": "1a5cece6",
   "metadata": {},
   "outputs": [
    {
     "data": {
      "text/plain": [
       "Event name              1\n",
       "Event count             0\n",
       "Total users             0\n",
       "Event count per user    0\n",
       "Total revenue           0\n",
       "dtype: int64"
      ]
     },
     "execution_count": 15,
     "metadata": {},
     "output_type": "execute_result"
    }
   ],
   "source": [
    "df2.isna().sum()"
   ]
  },
  {
   "cell_type": "code",
   "execution_count": 16,
   "id": "5478f3fd",
   "metadata": {},
   "outputs": [],
   "source": [
    "df2=df2.dropna()"
   ]
  },
  {
   "cell_type": "code",
   "execution_count": 17,
   "id": "04615039",
   "metadata": {},
   "outputs": [
    {
     "data": {
      "text/plain": [
       "0"
      ]
     },
     "execution_count": 17,
     "metadata": {},
     "output_type": "execute_result"
    }
   ],
   "source": [
    "df2.duplicated().sum()"
   ]
  },
  {
   "cell_type": "code",
   "execution_count": 18,
   "id": "09b1f579",
   "metadata": {},
   "outputs": [
    {
     "data": {
      "text/html": [
       "<div>\n",
       "<style scoped>\n",
       "    .dataframe tbody tr th:only-of-type {\n",
       "        vertical-align: middle;\n",
       "    }\n",
       "\n",
       "    .dataframe tbody tr th {\n",
       "        vertical-align: top;\n",
       "    }\n",
       "\n",
       "    .dataframe thead th {\n",
       "        text-align: right;\n",
       "    }\n",
       "</style>\n",
       "<table border=\"1\" class=\"dataframe\">\n",
       "  <thead>\n",
       "    <tr style=\"text-align: right;\">\n",
       "      <th></th>\n",
       "      <th>Event count</th>\n",
       "      <th>Total users</th>\n",
       "      <th>Event count per user</th>\n",
       "      <th>Total revenue</th>\n",
       "    </tr>\n",
       "  </thead>\n",
       "  <tbody>\n",
       "    <tr>\n",
       "      <th>count</th>\n",
       "      <td>378.000000</td>\n",
       "      <td>378.000000</td>\n",
       "      <td>378.000000</td>\n",
       "      <td>378.0</td>\n",
       "    </tr>\n",
       "    <tr>\n",
       "      <th>mean</th>\n",
       "      <td>3487.960317</td>\n",
       "      <td>585.113757</td>\n",
       "      <td>3.186840</td>\n",
       "      <td>0.0</td>\n",
       "    </tr>\n",
       "    <tr>\n",
       "      <th>std</th>\n",
       "      <td>37122.358042</td>\n",
       "      <td>2794.989519</td>\n",
       "      <td>10.396199</td>\n",
       "      <td>0.0</td>\n",
       "    </tr>\n",
       "    <tr>\n",
       "      <th>min</th>\n",
       "      <td>0.000000</td>\n",
       "      <td>1.000000</td>\n",
       "      <td>0.000000</td>\n",
       "      <td>0.0</td>\n",
       "    </tr>\n",
       "    <tr>\n",
       "      <th>25%</th>\n",
       "      <td>7.000000</td>\n",
       "      <td>3.250000</td>\n",
       "      <td>1.251225</td>\n",
       "      <td>0.0</td>\n",
       "    </tr>\n",
       "    <tr>\n",
       "      <th>50%</th>\n",
       "      <td>62.000000</td>\n",
       "      <td>31.500000</td>\n",
       "      <td>1.750000</td>\n",
       "      <td>0.0</td>\n",
       "    </tr>\n",
       "    <tr>\n",
       "      <th>75%</th>\n",
       "      <td>508.750000</td>\n",
       "      <td>238.000000</td>\n",
       "      <td>2.755974</td>\n",
       "      <td>0.0</td>\n",
       "    </tr>\n",
       "    <tr>\n",
       "      <th>max</th>\n",
       "      <td>694729.000000</td>\n",
       "      <td>23254.000000</td>\n",
       "      <td>144.000000</td>\n",
       "      <td>0.0</td>\n",
       "    </tr>\n",
       "  </tbody>\n",
       "</table>\n",
       "</div>"
      ],
      "text/plain": [
       "         Event count   Total users  Event count per user  Total revenue\n",
       "count     378.000000    378.000000            378.000000          378.0\n",
       "mean     3487.960317    585.113757              3.186840            0.0\n",
       "std     37122.358042   2794.989519             10.396199            0.0\n",
       "min         0.000000      1.000000              0.000000            0.0\n",
       "25%         7.000000      3.250000              1.251225            0.0\n",
       "50%        62.000000     31.500000              1.750000            0.0\n",
       "75%       508.750000    238.000000              2.755974            0.0\n",
       "max    694729.000000  23254.000000            144.000000            0.0"
      ]
     },
     "execution_count": 18,
     "metadata": {},
     "output_type": "execute_result"
    }
   ],
   "source": [
    "df2.describe()"
   ]
  },
  {
   "cell_type": "code",
   "execution_count": 19,
   "id": "1e6b8de2",
   "metadata": {},
   "outputs": [
    {
     "data": {
      "image/png": "[encoded data removed]",
      "text/plain": [
       "<Figure size 432x288 with 1 Axes>"
      ]
     },
     "metadata": {
      "needs_background": "light"
     },
     "output_type": "display_data"
    },
    {
     "data": {
      "image/png": "[encoded data removed]",
      "text/plain": [
       "<Figure size 432x288 with 1 Axes>"
      ]
     },
     "metadata": {
      "needs_background": "light"
     },
     "output_type": "display_data"
    },
    {
     "data": {
      "image/png": "[encoded data removed]",
      "text/plain": [
       "<Figure size 432x288 with 1 Axes>"
      ]
     },
     "metadata": {
      "needs_background": "light"
     },
     "output_type": "display_data"
    },
    {
     "data": {
      "image/png": "[encoded data removed]",
      "text/plain": [
       "<Figure size 432x288 with 1 Axes>"
      ]
     },
     "metadata": {
      "needs_background": "light"
     },
     "output_type": "display_data"
    }
   ],
   "source": [
    "for i in df2.columns:\n",
    "    if df2[i].dtype == \"float64\" or df2[i].dtype == \"int64\":\n",
    "        sns.boxplot(y=df2[i], color='red')\n",
    "        plt.show();"
   ]
  },
  {
   "cell_type": "code",
   "execution_count": 20,
   "id": "ca441d49",
   "metadata": {},
   "outputs": [
    {
     "data": {
      "image/png": "[encoded data removed]",
      "text/plain": [
       "<Figure size 2160x360 with 1 Axes>"
      ]
     },
     "metadata": {
      "needs_background": "light"
     },
     "output_type": "display_data"
    }
   ],
   "source": [
    "plt.figure(figsize=(30,5))\n",
    "grouped_data = df2.groupby('Event name')['Event count'].mean()\n",
    "\n",
    "grouped_data.plot(kind='line', marker='o')\n",
    "\n",
    "plt.xlabel('Category')\n",
    "plt.ylabel('Average Value')\n",
    "plt.title('Line Graph')\n",
    "plt.grid(True)"
   ]
  },
  {
   "cell_type": "markdown",
   "id": "8153396b",
   "metadata": {},
   "source": [
    "# The \"screen_view\" events have a significant count of 694,729, indicating that users are actively interacting with screens within the App. The total number of users who generated these events is 23,254, suggesting that multiple users are engaging with the screens. "
   ]
  },
  {
   "cell_type": "markdown",
   "id": "7983592f",
   "metadata": {},
   "source": [
    "# Gender Report"
   ]
  },
  {
   "cell_type": "code",
   "execution_count": 21,
   "id": "f2888b0f",
   "metadata": {},
   "outputs": [],
   "source": [
    "df3=pd.read_excel(\"C:\\\\Users\\\\mevee\\\\Downloads\\\\App_Analytics_Report.xlsx\", sheet_name='Gender Report')"
   ]
  },
  {
   "cell_type": "code",
   "execution_count": 22,
   "id": "4de9e22e",
   "metadata": {},
   "outputs": [
    {
     "data": {
      "text/html": [
       "<div>\n",
       "<style scoped>\n",
       "    .dataframe tbody tr th:only-of-type {\n",
       "        vertical-align: middle;\n",
       "    }\n",
       "\n",
       "    .dataframe tbody tr th {\n",
       "        vertical-align: top;\n",
       "    }\n",
       "\n",
       "    .dataframe thead th {\n",
       "        text-align: right;\n",
       "    }\n",
       "</style>\n",
       "<table border=\"1\" class=\"dataframe\">\n",
       "  <thead>\n",
       "    <tr style=\"text-align: right;\">\n",
       "      <th></th>\n",
       "      <th>Gender</th>\n",
       "      <th>Users</th>\n",
       "      <th>New users</th>\n",
       "      <th>Engaged sessions</th>\n",
       "      <th>Engagement rate</th>\n",
       "      <th>Engaged sessions per user</th>\n",
       "      <th>Average engagement time</th>\n",
       "      <th>Event count</th>\n",
       "      <th>Conversions</th>\n",
       "      <th>Total revenue</th>\n",
       "    </tr>\n",
       "  </thead>\n",
       "  <tbody>\n",
       "    <tr>\n",
       "      <th>0</th>\n",
       "      <td>unknown</td>\n",
       "      <td>13142</td>\n",
       "      <td>12691</td>\n",
       "      <td>23161</td>\n",
       "      <td>0.564077</td>\n",
       "      <td>1.762365</td>\n",
       "      <td>439.5776</td>\n",
       "      <td>761771</td>\n",
       "      <td>93180</td>\n",
       "      <td>0</td>\n",
       "    </tr>\n",
       "    <tr>\n",
       "      <th>1</th>\n",
       "      <td>male</td>\n",
       "      <td>7218</td>\n",
       "      <td>5877</td>\n",
       "      <td>10467</td>\n",
       "      <td>0.543091</td>\n",
       "      <td>1.450125</td>\n",
       "      <td>128.2319</td>\n",
       "      <td>282504</td>\n",
       "      <td>65651</td>\n",
       "      <td>0</td>\n",
       "    </tr>\n",
       "    <tr>\n",
       "      <th>2</th>\n",
       "      <td>female</td>\n",
       "      <td>4944</td>\n",
       "      <td>4304</td>\n",
       "      <td>7877</td>\n",
       "      <td>0.637710</td>\n",
       "      <td>1.593244</td>\n",
       "      <td>208.7407</td>\n",
       "      <td>274254</td>\n",
       "      <td>35083</td>\n",
       "      <td>0</td>\n",
       "    </tr>\n",
       "  </tbody>\n",
       "</table>\n",
       "</div>"
      ],
      "text/plain": [
       "    Gender  Users  New users  Engaged sessions  Engagement rate  \\\n",
       "0  unknown  13142      12691             23161         0.564077   \n",
       "1     male   7218       5877             10467         0.543091   \n",
       "2   female   4944       4304              7877         0.637710   \n",
       "\n",
       "   Engaged sessions per user  Average engagement time  Event count  \\\n",
       "0                   1.762365                 439.5776       761771   \n",
       "1                   1.450125                 128.2319       282504   \n",
       "2                   1.593244                 208.7407       274254   \n",
       "\n",
       "   Conversions  Total revenue  \n",
       "0        93180              0  \n",
       "1        65651              0  \n",
       "2        35083              0  "
      ]
     },
     "execution_count": 22,
     "metadata": {},
     "output_type": "execute_result"
    }
   ],
   "source": [
    "df3"
   ]
  },
  {
   "cell_type": "code",
   "execution_count": 23,
   "id": "309ed8d3",
   "metadata": {},
   "outputs": [
    {
     "data": {
      "image/png": "[encoded data removed]",
      "text/plain": [
       "<Figure size 720x288 with 1 Axes>"
      ]
     },
     "metadata": {
      "needs_background": "light"
     },
     "output_type": "display_data"
    }
   ],
   "source": [
    "plt.figure(figsize=(10,4))\n",
    "plt.hlines(y=df3.Gender, xmin=0, xmax=df3.Users, color='slateblue')\n",
    "plt.plot(df3.Users, df3.Gender, 'o', color='slateblue')\n",
    "plt.title('Users by Gender', fontsize=27)\n",
    "plt.xlabel('Total count', fontsize=19)\n",
    "plt.xticks(fontsize=16)\n",
    "plt.yticks(fontsize=16)\n",
    "plt.xlim(0, None)\n",
    "plt.show()"
   ]
  },
  {
   "cell_type": "markdown",
   "id": "0c4ea12c",
   "metadata": {},
   "source": [
    "# The \"Unknown\" gender category has a total of 13,142 users"
   ]
  },
  {
   "cell_type": "markdown",
   "id": "8904d4c0",
   "metadata": {},
   "source": [
    "# The \"Male\" gender category has a total of 7,218 users"
   ]
  },
  {
   "cell_type": "markdown",
   "id": "9d20cadb",
   "metadata": {},
   "source": [
    "# The \"Female\" gender category has a total of 4,944 users"
   ]
  },
  {
   "cell_type": "markdown",
   "id": "541033a2",
   "metadata": {},
   "source": [
    "# The \"Female\" category demonstrates higher engagement rates and longer average engagement times compared to the \"Male\" categories. "
   ]
  },
  {
   "cell_type": "markdown",
   "id": "67c5c7a7",
   "metadata": {},
   "source": [
    "# User by Language"
   ]
  },
  {
   "cell_type": "code",
   "execution_count": 24,
   "id": "258dbbc5",
   "metadata": {},
   "outputs": [],
   "source": [
    "df4=pd.read_excel(\"C:\\\\Users\\\\mevee\\\\Downloads\\\\App_Analytics_Report.xlsx\", sheet_name='User by Language')"
   ]
  },
  {
   "cell_type": "code",
   "execution_count": 25,
   "id": "3dd9c3bd",
   "metadata": {},
   "outputs": [
    {
     "data": {
      "text/html": [
       "<div>\n",
       "<style scoped>\n",
       "    .dataframe tbody tr th:only-of-type {\n",
       "        vertical-align: middle;\n",
       "    }\n",
       "\n",
       "    .dataframe tbody tr th {\n",
       "        vertical-align: top;\n",
       "    }\n",
       "\n",
       "    .dataframe thead th {\n",
       "        text-align: right;\n",
       "    }\n",
       "</style>\n",
       "<table border=\"1\" class=\"dataframe\">\n",
       "  <thead>\n",
       "    <tr style=\"text-align: right;\">\n",
       "      <th></th>\n",
       "      <th>Language</th>\n",
       "      <th>Users</th>\n",
       "      <th>New users</th>\n",
       "      <th>Engaged sessions</th>\n",
       "      <th>Engagement rate</th>\n",
       "      <th>Engaged sessions per user</th>\n",
       "      <th>Average engagement time</th>\n",
       "      <th>Event count</th>\n",
       "      <th>Conversions</th>\n",
       "      <th>Total revenue</th>\n",
       "    </tr>\n",
       "  </thead>\n",
       "  <tbody>\n",
       "    <tr>\n",
       "      <th>0</th>\n",
       "      <td>English</td>\n",
       "      <td>22495</td>\n",
       "      <td>21990</td>\n",
       "      <td>40639</td>\n",
       "      <td>0.595147</td>\n",
       "      <td>1.806579</td>\n",
       "      <td>341.36350</td>\n",
       "      <td>1297970</td>\n",
       "      <td>189946</td>\n",
       "      <td>0</td>\n",
       "    </tr>\n",
       "    <tr>\n",
       "      <th>1</th>\n",
       "      <td>Hindi</td>\n",
       "      <td>586</td>\n",
       "      <td>552</td>\n",
       "      <td>798</td>\n",
       "      <td>0.406314</td>\n",
       "      <td>1.361775</td>\n",
       "      <td>60.03413</td>\n",
       "      <td>13523</td>\n",
       "      <td>2699</td>\n",
       "      <td>0</td>\n",
       "    </tr>\n",
       "    <tr>\n",
       "      <th>2</th>\n",
       "      <td>Marathi</td>\n",
       "      <td>85</td>\n",
       "      <td>84</td>\n",
       "      <td>98</td>\n",
       "      <td>0.426087</td>\n",
       "      <td>1.152941</td>\n",
       "      <td>38.48235</td>\n",
       "      <td>1589</td>\n",
       "      <td>323</td>\n",
       "      <td>0</td>\n",
       "    </tr>\n",
       "    <tr>\n",
       "      <th>3</th>\n",
       "      <td>Gujarati</td>\n",
       "      <td>78</td>\n",
       "      <td>77</td>\n",
       "      <td>100</td>\n",
       "      <td>0.448430</td>\n",
       "      <td>1.282051</td>\n",
       "      <td>46.53846</td>\n",
       "      <td>1794</td>\n",
       "      <td>327</td>\n",
       "      <td>0</td>\n",
       "    </tr>\n",
       "    <tr>\n",
       "      <th>4</th>\n",
       "      <td>Telugu</td>\n",
       "      <td>43</td>\n",
       "      <td>42</td>\n",
       "      <td>56</td>\n",
       "      <td>0.455285</td>\n",
       "      <td>1.302326</td>\n",
       "      <td>36.65116</td>\n",
       "      <td>812</td>\n",
       "      <td>170</td>\n",
       "      <td>0</td>\n",
       "    </tr>\n",
       "  </tbody>\n",
       "</table>\n",
       "</div>"
      ],
      "text/plain": [
       "   Language  Users  New users  Engaged sessions  Engagement rate  \\\n",
       "0   English  22495      21990             40639         0.595147   \n",
       "1     Hindi    586        552               798         0.406314   \n",
       "2   Marathi     85         84                98         0.426087   \n",
       "3  Gujarati     78         77               100         0.448430   \n",
       "4    Telugu     43         42                56         0.455285   \n",
       "\n",
       "   Engaged sessions per user  Average engagement time  Event count  \\\n",
       "0                   1.806579                341.36350      1297970   \n",
       "1                   1.361775                 60.03413        13523   \n",
       "2                   1.152941                 38.48235         1589   \n",
       "3                   1.282051                 46.53846         1794   \n",
       "4                   1.302326                 36.65116          812   \n",
       "\n",
       "   Conversions  Total revenue  \n",
       "0       189946              0  \n",
       "1         2699              0  \n",
       "2          323              0  \n",
       "3          327              0  \n",
       "4          170              0  "
      ]
     },
     "execution_count": 25,
     "metadata": {},
     "output_type": "execute_result"
    }
   ],
   "source": [
    "df4.head()"
   ]
  },
  {
   "cell_type": "code",
   "execution_count": 26,
   "id": "f2e1fcee",
   "metadata": {},
   "outputs": [
    {
     "data": {
      "text/plain": [
       "Language                     0\n",
       "Users                        0\n",
       "New users                    0\n",
       "Engaged sessions             0\n",
       "Engagement rate              0\n",
       "Engaged sessions per user    0\n",
       "Average engagement time      0\n",
       "Event count                  0\n",
       "Conversions                  0\n",
       "Total revenue                0\n",
       "dtype: int64"
      ]
     },
     "execution_count": 26,
     "metadata": {},
     "output_type": "execute_result"
    }
   ],
   "source": [
    "df4.isna().sum()"
   ]
  },
  {
   "cell_type": "code",
   "execution_count": 27,
   "id": "d3d066a0",
   "metadata": {},
   "outputs": [
    {
     "data": {
      "image/png": "[encoded data removed]",
      "text/plain": [
       "<Figure size 360x360 with 1 Axes>"
      ]
     },
     "metadata": {
      "needs_background": "light"
     },
     "output_type": "display_data"
    }
   ],
   "source": [
    "plt.figure(figsize=(5,5))\n",
    "plt.barh(\"Language\", \"Users\", data = df4, color = \"red\") \n",
    "plt.xlabel(\"Language\") \n",
    "plt.ylabel(\"Users\") \n",
    "plt.title(\"User by Language\")\n",
    "plt.show()"
   ]
  },
  {
   "cell_type": "markdown",
   "id": "885ca95b",
   "metadata": {},
   "source": [
    "# The \"English\" language category demonstrates higher user counts, engagement rates, and longer average engagement times compared to the \"Hindi\" language category. "
   ]
  },
  {
   "cell_type": "markdown",
   "id": "3af4bc0d",
   "metadata": {},
   "source": [
    "# User by Age"
   ]
  },
  {
   "cell_type": "code",
   "execution_count": 28,
   "id": "a9a596b0",
   "metadata": {},
   "outputs": [],
   "source": [
    "df5=pd.read_excel(\"C:\\\\Users\\\\mevee\\\\Downloads\\\\App_Analytics_Report.xlsx\", sheet_name='User By Age')"
   ]
  },
  {
   "cell_type": "code",
   "execution_count": 29,
   "id": "7e93e4a4",
   "metadata": {},
   "outputs": [
    {
     "data": {
      "text/html": [
       "<div>\n",
       "<style scoped>\n",
       "    .dataframe tbody tr th:only-of-type {\n",
       "        vertical-align: middle;\n",
       "    }\n",
       "\n",
       "    .dataframe tbody tr th {\n",
       "        vertical-align: top;\n",
       "    }\n",
       "\n",
       "    .dataframe thead th {\n",
       "        text-align: right;\n",
       "    }\n",
       "</style>\n",
       "<table border=\"1\" class=\"dataframe\">\n",
       "  <thead>\n",
       "    <tr style=\"text-align: right;\">\n",
       "      <th></th>\n",
       "      <th>Age</th>\n",
       "      <th>Users</th>\n",
       "      <th>New users</th>\n",
       "      <th>Engaged sessions</th>\n",
       "      <th>Engagement rate</th>\n",
       "      <th>Engaged sessions per user</th>\n",
       "      <th>Average engagement time</th>\n",
       "      <th>Event count</th>\n",
       "      <th>Conversions</th>\n",
       "      <th>Total revenue</th>\n",
       "    </tr>\n",
       "  </thead>\n",
       "  <tbody>\n",
       "    <tr>\n",
       "      <th>0</th>\n",
       "      <td>unknown</td>\n",
       "      <td>14303</td>\n",
       "      <td>13636</td>\n",
       "      <td>24976</td>\n",
       "      <td>0.569098</td>\n",
       "      <td>1.746207</td>\n",
       "      <td>422.22330</td>\n",
       "      <td>817501</td>\n",
       "      <td>99310</td>\n",
       "      <td>0</td>\n",
       "    </tr>\n",
       "    <tr>\n",
       "      <th>1</th>\n",
       "      <td>18-24</td>\n",
       "      <td>4282</td>\n",
       "      <td>3678</td>\n",
       "      <td>7291</td>\n",
       "      <td>0.695308</td>\n",
       "      <td>1.702709</td>\n",
       "      <td>251.16300</td>\n",
       "      <td>309328</td>\n",
       "      <td>53661</td>\n",
       "      <td>0</td>\n",
       "    </tr>\n",
       "    <tr>\n",
       "      <th>2</th>\n",
       "      <td>25-34</td>\n",
       "      <td>2920</td>\n",
       "      <td>2161</td>\n",
       "      <td>3749</td>\n",
       "      <td>0.504780</td>\n",
       "      <td>1.283904</td>\n",
       "      <td>97.24144</td>\n",
       "      <td>90074</td>\n",
       "      <td>20172</td>\n",
       "      <td>0</td>\n",
       "    </tr>\n",
       "    <tr>\n",
       "      <th>3</th>\n",
       "      <td>65+</td>\n",
       "      <td>1422</td>\n",
       "      <td>1081</td>\n",
       "      <td>1640</td>\n",
       "      <td>0.539829</td>\n",
       "      <td>1.153305</td>\n",
       "      <td>52.30661</td>\n",
       "      <td>24780</td>\n",
       "      <td>4891</td>\n",
       "      <td>0</td>\n",
       "    </tr>\n",
       "    <tr>\n",
       "      <th>4</th>\n",
       "      <td>55-64</td>\n",
       "      <td>1403</td>\n",
       "      <td>979</td>\n",
       "      <td>1552</td>\n",
       "      <td>0.519411</td>\n",
       "      <td>1.106201</td>\n",
       "      <td>55.37063</td>\n",
       "      <td>25169</td>\n",
       "      <td>4823</td>\n",
       "      <td>0</td>\n",
       "    </tr>\n",
       "    <tr>\n",
       "      <th>5</th>\n",
       "      <td>35-44</td>\n",
       "      <td>1202</td>\n",
       "      <td>785</td>\n",
       "      <td>1420</td>\n",
       "      <td>0.510424</td>\n",
       "      <td>1.181364</td>\n",
       "      <td>96.08236</td>\n",
       "      <td>33016</td>\n",
       "      <td>8111</td>\n",
       "      <td>0</td>\n",
       "    </tr>\n",
       "    <tr>\n",
       "      <th>6</th>\n",
       "      <td>45-54</td>\n",
       "      <td>810</td>\n",
       "      <td>552</td>\n",
       "      <td>881</td>\n",
       "      <td>0.561862</td>\n",
       "      <td>1.087654</td>\n",
       "      <td>84.54321</td>\n",
       "      <td>18661</td>\n",
       "      <td>2946</td>\n",
       "      <td>0</td>\n",
       "    </tr>\n",
       "  </tbody>\n",
       "</table>\n",
       "</div>"
      ],
      "text/plain": [
       "       Age  Users  New users  Engaged sessions  Engagement rate  \\\n",
       "0  unknown  14303      13636             24976         0.569098   \n",
       "1    18-24   4282       3678              7291         0.695308   \n",
       "2    25-34   2920       2161              3749         0.504780   \n",
       "3      65+   1422       1081              1640         0.539829   \n",
       "4    55-64   1403        979              1552         0.519411   \n",
       "5    35-44   1202        785              1420         0.510424   \n",
       "6    45-54    810        552               881         0.561862   \n",
       "\n",
       "   Engaged sessions per user  Average engagement time  Event count  \\\n",
       "0                   1.746207                422.22330       817501   \n",
       "1                   1.702709                251.16300       309328   \n",
       "2                   1.283904                 97.24144        90074   \n",
       "3                   1.153305                 52.30661        24780   \n",
       "4                   1.106201                 55.37063        25169   \n",
       "5                   1.181364                 96.08236        33016   \n",
       "6                   1.087654                 84.54321        18661   \n",
       "\n",
       "   Conversions  Total revenue  \n",
       "0        99310              0  \n",
       "1        53661              0  \n",
       "2        20172              0  \n",
       "3         4891              0  \n",
       "4         4823              0  \n",
       "5         8111              0  \n",
       "6         2946              0  "
      ]
     },
     "execution_count": 29,
     "metadata": {},
     "output_type": "execute_result"
    }
   ],
   "source": [
    "df5"
   ]
  },
  {
   "cell_type": "code",
   "execution_count": 30,
   "id": "571261a3",
   "metadata": {},
   "outputs": [
    {
     "data": {
      "text/plain": [
       "Age                          0\n",
       "Users                        0\n",
       "New users                    0\n",
       "Engaged sessions             0\n",
       "Engagement rate              0\n",
       "Engaged sessions per user    0\n",
       "Average engagement time      0\n",
       "Event count                  0\n",
       "Conversions                  0\n",
       "Total revenue                0\n",
       "dtype: int64"
      ]
     },
     "execution_count": 30,
     "metadata": {},
     "output_type": "execute_result"
    }
   ],
   "source": [
    "df5.isna().sum()"
   ]
  },
  {
   "cell_type": "code",
   "execution_count": 31,
   "id": "349a400f",
   "metadata": {},
   "outputs": [],
   "source": [
    "import squarify "
   ]
  },
  {
   "cell_type": "code",
   "execution_count": 32,
   "id": "640e45ba",
   "metadata": {},
   "outputs": [
    {
     "data": {
      "image/png": "[encoded data removed]",
      "text/plain": [
       "<Figure size 432x288 with 1 Axes>"
      ]
     },
     "metadata": {
      "needs_background": "light"
     },
     "output_type": "display_data"
    }
   ],
   "source": [
    "a = df5.groupby('Age')[['Users']].sum().index.get_level_values(0).tolist()\n",
    " \n",
    "d = df5.groupby('Age')[['Users']].sum().reset_index().Users.values.tolist()\n",
    " \n",
    "squarify.plot(sizes=d,label=a, alpha=.8 )\n",
    "plt.axis('off')\n",
    "plt.show()"
   ]
  },
  {
   "cell_type": "markdown",
   "id": "d10fedf7",
   "metadata": {},
   "source": [
    "# The age of most users is unknown (14303). the user count for the age group between 18 and 24 is 4282."
   ]
  },
  {
   "cell_type": "markdown",
   "id": "15b729c8",
   "metadata": {},
   "source": [
    "# User By Interest"
   ]
  },
  {
   "cell_type": "code",
   "execution_count": 33,
   "id": "d88be9d6",
   "metadata": {},
   "outputs": [],
   "source": [
    "df6=pd.read_excel(\"C:\\\\Users\\\\mevee\\\\Downloads\\\\App_Analytics_Report.xlsx\", sheet_name='User By Interest')"
   ]
  },
  {
   "cell_type": "code",
   "execution_count": 34,
   "id": "a8568555",
   "metadata": {},
   "outputs": [
    {
     "data": {
      "text/html": [
       "<div>\n",
       "<style scoped>\n",
       "    .dataframe tbody tr th:only-of-type {\n",
       "        vertical-align: middle;\n",
       "    }\n",
       "\n",
       "    .dataframe tbody tr th {\n",
       "        vertical-align: top;\n",
       "    }\n",
       "\n",
       "    .dataframe thead th {\n",
       "        text-align: right;\n",
       "    }\n",
       "</style>\n",
       "<table border=\"1\" class=\"dataframe\">\n",
       "  <thead>\n",
       "    <tr style=\"text-align: right;\">\n",
       "      <th></th>\n",
       "      <th>Interests</th>\n",
       "      <th>Users</th>\n",
       "      <th>New users</th>\n",
       "      <th>Engaged sessions</th>\n",
       "      <th>Engagement rate</th>\n",
       "      <th>Engaged sessions per user</th>\n",
       "      <th>Average engagement time</th>\n",
       "      <th>Event count</th>\n",
       "      <th>Conversions</th>\n",
       "      <th>Total revenue</th>\n",
       "    </tr>\n",
       "  </thead>\n",
       "  <tbody>\n",
       "    <tr>\n",
       "      <th>0</th>\n",
       "      <td>Shoppers</td>\n",
       "      <td>10950</td>\n",
       "      <td>9256</td>\n",
       "      <td>15652</td>\n",
       "      <td>0.581534</td>\n",
       "      <td>1.429406</td>\n",
       "      <td>162.8347</td>\n",
       "      <td>490664</td>\n",
       "      <td>86846</td>\n",
       "      <td>0</td>\n",
       "    </tr>\n",
       "    <tr>\n",
       "      <th>1</th>\n",
       "      <td>Media &amp; Entertainment/Comics &amp; Animation Fans</td>\n",
       "      <td>10946</td>\n",
       "      <td>9247</td>\n",
       "      <td>15680</td>\n",
       "      <td>0.583008</td>\n",
       "      <td>1.432487</td>\n",
       "      <td>165.1772</td>\n",
       "      <td>491025</td>\n",
       "      <td>86845</td>\n",
       "      <td>0</td>\n",
       "    </tr>\n",
       "    <tr>\n",
       "      <th>2</th>\n",
       "      <td>Technology/Mobile Enthusiasts</td>\n",
       "      <td>10934</td>\n",
       "      <td>9239</td>\n",
       "      <td>15619</td>\n",
       "      <td>0.582451</td>\n",
       "      <td>1.428480</td>\n",
       "      <td>162.6945</td>\n",
       "      <td>489353</td>\n",
       "      <td>86742</td>\n",
       "      <td>0</td>\n",
       "    </tr>\n",
       "    <tr>\n",
       "      <th>3</th>\n",
       "      <td>Food &amp; Dining/Cooking Enthusiasts</td>\n",
       "      <td>8410</td>\n",
       "      <td>6970</td>\n",
       "      <td>12332</td>\n",
       "      <td>0.602325</td>\n",
       "      <td>1.466350</td>\n",
       "      <td>176.9567</td>\n",
       "      <td>409713</td>\n",
       "      <td>73814</td>\n",
       "      <td>0</td>\n",
       "    </tr>\n",
       "    <tr>\n",
       "      <th>4</th>\n",
       "      <td>Sports &amp; Fitness/Health &amp; Fitness Buffs</td>\n",
       "      <td>5844</td>\n",
       "      <td>4580</td>\n",
       "      <td>8226</td>\n",
       "      <td>0.588328</td>\n",
       "      <td>1.407598</td>\n",
       "      <td>155.1451</td>\n",
       "      <td>257831</td>\n",
       "      <td>43074</td>\n",
       "      <td>0</td>\n",
       "    </tr>\n",
       "  </tbody>\n",
       "</table>\n",
       "</div>"
      ],
      "text/plain": [
       "                                       Interests  Users  New users  \\\n",
       "0                                       Shoppers  10950       9256   \n",
       "1  Media & Entertainment/Comics & Animation Fans  10946       9247   \n",
       "2                  Technology/Mobile Enthusiasts  10934       9239   \n",
       "3              Food & Dining/Cooking Enthusiasts   8410       6970   \n",
       "4        Sports & Fitness/Health & Fitness Buffs   5844       4580   \n",
       "\n",
       "   Engaged sessions  Engagement rate  Engaged sessions per user  \\\n",
       "0             15652         0.581534                   1.429406   \n",
       "1             15680         0.583008                   1.432487   \n",
       "2             15619         0.582451                   1.428480   \n",
       "3             12332         0.602325                   1.466350   \n",
       "4              8226         0.588328                   1.407598   \n",
       "\n",
       "   Average engagement time  Event count  Conversions  Total revenue  \n",
       "0                 162.8347       490664        86846              0  \n",
       "1                 165.1772       491025        86845              0  \n",
       "2                 162.6945       489353        86742              0  \n",
       "3                 176.9567       409713        73814              0  \n",
       "4                 155.1451       257831        43074              0  "
      ]
     },
     "execution_count": 34,
     "metadata": {},
     "output_type": "execute_result"
    }
   ],
   "source": [
    "df6.head()"
   ]
  },
  {
   "cell_type": "code",
   "execution_count": 35,
   "id": "d33739ab",
   "metadata": {},
   "outputs": [
    {
     "data": {
      "text/plain": [
       "Interests                    0\n",
       "Users                        0\n",
       "New users                    0\n",
       "Engaged sessions             0\n",
       "Engagement rate              0\n",
       "Engaged sessions per user    0\n",
       "Average engagement time      0\n",
       "Event count                  0\n",
       "Conversions                  0\n",
       "Total revenue                0\n",
       "dtype: int64"
      ]
     },
     "execution_count": 35,
     "metadata": {},
     "output_type": "execute_result"
    }
   ],
   "source": [
    "df6.isna().sum()"
   ]
  },
  {
   "cell_type": "code",
   "execution_count": 36,
   "id": "1f5e4ac7",
   "metadata": {},
   "outputs": [],
   "source": [
    "sorted_df6=df6.sort_values(by='Users', ascending=False)"
   ]
  },
  {
   "cell_type": "code",
   "execution_count": 37,
   "id": "420a6dda",
   "metadata": {},
   "outputs": [],
   "source": [
    "top_ten=sorted_df6.head(10)"
   ]
  },
  {
   "cell_type": "code",
   "execution_count": 38,
   "id": "fcc67bb1",
   "metadata": {},
   "outputs": [
    {
     "data": {
      "image/png": "[encoded data removed]",
      "text/plain": [
       "<Figure size 720x288 with 1 Axes>"
      ]
     },
     "metadata": {
      "needs_background": "light"
     },
     "output_type": "display_data"
    }
   ],
   "source": [
    "plt.figure(figsize=(10,4))\n",
    "plt.barh(top_ten.Interests, top_ten.Users, color='slateblue')\n",
    "plt.title('User By Interest', fontsize=27)\n",
    "plt.xlabel('Total Count of Users', fontsize=19)\n",
    "plt.xticks(fontsize=16)\n",
    "plt.yticks(fontsize=16)\n",
    "plt.tick_params(left=False)\n",
    "sns.despine(left=True)\n",
    "plt.show()"
   ]
  },
  {
   "cell_type": "markdown",
   "id": "12ee8387",
   "metadata": {},
   "source": [
    "# The \"Shoppers\" interest category comprises 10,950 users, of which 9,256 are new users. With an engagement rate of 0.582, indicating moderate user engagement, the average number of engaged sessions per user is 1.429. On average, users in this category spend approximately 163 seconds (or 2 minutes and 43 seconds) per session. The total recorded events amount to 490,664, with 86,846 conversions."
   ]
  },
  {
   "cell_type": "markdown",
   "id": "227d011f",
   "metadata": {},
   "source": [
    "# Demographics Report"
   ]
  },
  {
   "cell_type": "code",
   "execution_count": 39,
   "id": "310823aa",
   "metadata": {},
   "outputs": [],
   "source": [
    "df7=pd.read_excel(\"C:\\\\Users\\\\mevee\\\\Downloads\\\\App_Analytics_Report.xlsx\", sheet_name='Demographics Report')"
   ]
  },
  {
   "cell_type": "code",
   "execution_count": 40,
   "id": "4a4ffb7c",
   "metadata": {},
   "outputs": [
    {
     "data": {
      "text/html": [
       "<div>\n",
       "<style scoped>\n",
       "    .dataframe tbody tr th:only-of-type {\n",
       "        vertical-align: middle;\n",
       "    }\n",
       "\n",
       "    .dataframe tbody tr th {\n",
       "        vertical-align: top;\n",
       "    }\n",
       "\n",
       "    .dataframe thead th {\n",
       "        text-align: right;\n",
       "    }\n",
       "</style>\n",
       "<table border=\"1\" class=\"dataframe\">\n",
       "  <thead>\n",
       "    <tr style=\"text-align: right;\">\n",
       "      <th></th>\n",
       "      <th>Country</th>\n",
       "      <th>Users</th>\n",
       "      <th>New users</th>\n",
       "      <th>Engaged sessions</th>\n",
       "      <th>Engagement rate</th>\n",
       "      <th>Engaged sessions per user</th>\n",
       "      <th>Average engagement time</th>\n",
       "      <th>Event count</th>\n",
       "      <th>Conversions</th>\n",
       "      <th>Total revenue</th>\n",
       "    </tr>\n",
       "  </thead>\n",
       "  <tbody>\n",
       "    <tr>\n",
       "      <th>0</th>\n",
       "      <td>India</td>\n",
       "      <td>23024</td>\n",
       "      <td>22528</td>\n",
       "      <td>41479</td>\n",
       "      <td>0.593626</td>\n",
       "      <td>1.801555</td>\n",
       "      <td>334.81660</td>\n",
       "      <td>1312097</td>\n",
       "      <td>192766</td>\n",
       "      <td>0</td>\n",
       "    </tr>\n",
       "    <tr>\n",
       "      <th>1</th>\n",
       "      <td>United States</td>\n",
       "      <td>272</td>\n",
       "      <td>213</td>\n",
       "      <td>197</td>\n",
       "      <td>0.491272</td>\n",
       "      <td>0.724265</td>\n",
       "      <td>50.96324</td>\n",
       "      <td>3157</td>\n",
       "      <td>643</td>\n",
       "      <td>0</td>\n",
       "    </tr>\n",
       "    <tr>\n",
       "      <th>2</th>\n",
       "      <td>Canada</td>\n",
       "      <td>37</td>\n",
       "      <td>18</td>\n",
       "      <td>25</td>\n",
       "      <td>0.416667</td>\n",
       "      <td>0.675676</td>\n",
       "      <td>43.21622</td>\n",
       "      <td>410</td>\n",
       "      <td>121</td>\n",
       "      <td>0</td>\n",
       "    </tr>\n",
       "    <tr>\n",
       "      <th>3</th>\n",
       "      <td>(not set)</td>\n",
       "      <td>36</td>\n",
       "      <td>36</td>\n",
       "      <td>17</td>\n",
       "      <td>0.459459</td>\n",
       "      <td>0.472222</td>\n",
       "      <td>24.80556</td>\n",
       "      <td>241</td>\n",
       "      <td>54</td>\n",
       "      <td>0</td>\n",
       "    </tr>\n",
       "    <tr>\n",
       "      <th>4</th>\n",
       "      <td>United Kingdom</td>\n",
       "      <td>20</td>\n",
       "      <td>8</td>\n",
       "      <td>13</td>\n",
       "      <td>0.371429</td>\n",
       "      <td>0.650000</td>\n",
       "      <td>61.85000</td>\n",
       "      <td>289</td>\n",
       "      <td>43</td>\n",
       "      <td>0</td>\n",
       "    </tr>\n",
       "  </tbody>\n",
       "</table>\n",
       "</div>"
      ],
      "text/plain": [
       "          Country  Users  New users  Engaged sessions  Engagement rate  \\\n",
       "0           India  23024      22528             41479         0.593626   \n",
       "1   United States    272        213               197         0.491272   \n",
       "2          Canada     37         18                25         0.416667   \n",
       "3       (not set)     36         36                17         0.459459   \n",
       "4  United Kingdom     20          8                13         0.371429   \n",
       "\n",
       "   Engaged sessions per user  Average engagement time  Event count  \\\n",
       "0                   1.801555                334.81660      1312097   \n",
       "1                   0.724265                 50.96324         3157   \n",
       "2                   0.675676                 43.21622          410   \n",
       "3                   0.472222                 24.80556          241   \n",
       "4                   0.650000                 61.85000          289   \n",
       "\n",
       "   Conversions  Total revenue  \n",
       "0       192766              0  \n",
       "1          643              0  \n",
       "2          121              0  \n",
       "3           54              0  \n",
       "4           43              0  "
      ]
     },
     "execution_count": 40,
     "metadata": {},
     "output_type": "execute_result"
    }
   ],
   "source": [
    "df7.head()"
   ]
  },
  {
   "cell_type": "code",
   "execution_count": 41,
   "id": "c66728c3",
   "metadata": {},
   "outputs": [],
   "source": [
    "df7=df7.drop(df7[df7['Country'] == '(not set)'].index)"
   ]
  },
  {
   "cell_type": "code",
   "execution_count": 42,
   "id": "68fc7e5f",
   "metadata": {},
   "outputs": [
    {
     "data": {
      "text/plain": [
       "Country                      0\n",
       "Users                        0\n",
       "New users                    0\n",
       "Engaged sessions             0\n",
       "Engagement rate              0\n",
       "Engaged sessions per user    0\n",
       "Average engagement time      0\n",
       "Event count                  0\n",
       "Conversions                  0\n",
       "Total revenue                0\n",
       "dtype: int64"
      ]
     },
     "execution_count": 42,
     "metadata": {},
     "output_type": "execute_result"
    }
   ],
   "source": [
    "df7.isna().sum()"
   ]
  },
  {
   "cell_type": "code",
   "execution_count": 43,
   "id": "eb08e852",
   "metadata": {},
   "outputs": [
    {
     "data": {
      "image/png": "[encoded data removed]",
      "text/plain": [
       "<Figure size 864x360 with 1 Axes>"
      ]
     },
     "metadata": {
      "needs_background": "light"
     },
     "output_type": "display_data"
    }
   ],
   "source": [
    "plt.figure(figsize=(12,5))\n",
    "country=df7['Country']\n",
    "users=df7['Users']\n",
    "top_data=sorted(zip(country, users), key=lambda x: x[1], reverse=True)[:10]\n",
    "top_country, top_users = zip(*top_data)\n",
    "plt.plot(top_country, top_users, marker='o')\n",
    "\n",
    "plt.xlabel('country')\n",
    "plt.ylabel('users')\n",
    "plt.title('Top 10 Demographics Report')\n",
    "plt.show()"
   ]
  },
  {
   "cell_type": "markdown",
   "id": "98e1a277",
   "metadata": {},
   "source": [
    "# India has the hightest number of users and it also has the highest count of engaged sessions"
   ]
  },
  {
   "cell_type": "markdown",
   "id": "3aa0ad59",
   "metadata": {},
   "source": [
    "# Citiwise Report"
   ]
  },
  {
   "cell_type": "code",
   "execution_count": 44,
   "id": "77ddbaeb",
   "metadata": {},
   "outputs": [],
   "source": [
    "df8=pd.read_excel(\"C:\\\\Users\\\\mevee\\\\Downloads\\\\App_Analytics_Report.xlsx\", sheet_name='Citiwise Report')"
   ]
  },
  {
   "cell_type": "code",
   "execution_count": 45,
   "id": "a8a7f2d6",
   "metadata": {},
   "outputs": [
    {
     "data": {
      "text/html": [
       "<div>\n",
       "<style scoped>\n",
       "    .dataframe tbody tr th:only-of-type {\n",
       "        vertical-align: middle;\n",
       "    }\n",
       "\n",
       "    .dataframe tbody tr th {\n",
       "        vertical-align: top;\n",
       "    }\n",
       "\n",
       "    .dataframe thead th {\n",
       "        text-align: right;\n",
       "    }\n",
       "</style>\n",
       "<table border=\"1\" class=\"dataframe\">\n",
       "  <thead>\n",
       "    <tr style=\"text-align: right;\">\n",
       "      <th></th>\n",
       "      <th>Town/City</th>\n",
       "      <th>Users</th>\n",
       "      <th>New users</th>\n",
       "      <th>Engaged sessions</th>\n",
       "      <th>Engagement rate</th>\n",
       "      <th>Engaged sessions per user</th>\n",
       "      <th>Average engagement time</th>\n",
       "      <th>Event count</th>\n",
       "      <th>Conversions</th>\n",
       "      <th>Total revenue</th>\n",
       "    </tr>\n",
       "  </thead>\n",
       "  <tbody>\n",
       "    <tr>\n",
       "      <th>0</th>\n",
       "      <td>Bengaluru</td>\n",
       "      <td>6097</td>\n",
       "      <td>5685</td>\n",
       "      <td>15013</td>\n",
       "      <td>0.769385</td>\n",
       "      <td>2.462359</td>\n",
       "      <td>762.20550</td>\n",
       "      <td>607200</td>\n",
       "      <td>62939</td>\n",
       "      <td>0</td>\n",
       "    </tr>\n",
       "    <tr>\n",
       "      <th>1</th>\n",
       "      <td>Patna</td>\n",
       "      <td>1594</td>\n",
       "      <td>1467</td>\n",
       "      <td>2127</td>\n",
       "      <td>0.440646</td>\n",
       "      <td>1.334379</td>\n",
       "      <td>98.22208</td>\n",
       "      <td>38830</td>\n",
       "      <td>6980</td>\n",
       "      <td>0</td>\n",
       "    </tr>\n",
       "    <tr>\n",
       "      <th>2</th>\n",
       "      <td>Hyderabad</td>\n",
       "      <td>1038</td>\n",
       "      <td>920</td>\n",
       "      <td>1578</td>\n",
       "      <td>0.569264</td>\n",
       "      <td>1.520231</td>\n",
       "      <td>243.69080</td>\n",
       "      <td>96826</td>\n",
       "      <td>34103</td>\n",
       "      <td>0</td>\n",
       "    </tr>\n",
       "    <tr>\n",
       "      <th>3</th>\n",
       "      <td>Indore</td>\n",
       "      <td>983</td>\n",
       "      <td>915</td>\n",
       "      <td>1241</td>\n",
       "      <td>0.426460</td>\n",
       "      <td>1.262462</td>\n",
       "      <td>67.89115</td>\n",
       "      <td>21383</td>\n",
       "      <td>4121</td>\n",
       "      <td>0</td>\n",
       "    </tr>\n",
       "    <tr>\n",
       "      <th>4</th>\n",
       "      <td>Lucknow</td>\n",
       "      <td>897</td>\n",
       "      <td>839</td>\n",
       "      <td>1125</td>\n",
       "      <td>0.450180</td>\n",
       "      <td>1.254181</td>\n",
       "      <td>83.40580</td>\n",
       "      <td>21041</td>\n",
       "      <td>3650</td>\n",
       "      <td>0</td>\n",
       "    </tr>\n",
       "  </tbody>\n",
       "</table>\n",
       "</div>"
      ],
      "text/plain": [
       "   Town/City  Users  New users  Engaged sessions  Engagement rate  \\\n",
       "0  Bengaluru   6097       5685             15013         0.769385   \n",
       "1      Patna   1594       1467              2127         0.440646   \n",
       "2  Hyderabad   1038        920              1578         0.569264   \n",
       "3     Indore    983        915              1241         0.426460   \n",
       "4    Lucknow    897        839              1125         0.450180   \n",
       "\n",
       "   Engaged sessions per user  Average engagement time  Event count  \\\n",
       "0                   2.462359                762.20550       607200   \n",
       "1                   1.334379                 98.22208        38830   \n",
       "2                   1.520231                243.69080        96826   \n",
       "3                   1.262462                 67.89115        21383   \n",
       "4                   1.254181                 83.40580        21041   \n",
       "\n",
       "   Conversions  Total revenue  \n",
       "0        62939              0  \n",
       "1         6980              0  \n",
       "2        34103              0  \n",
       "3         4121              0  \n",
       "4         3650              0  "
      ]
     },
     "execution_count": 45,
     "metadata": {},
     "output_type": "execute_result"
    }
   ],
   "source": [
    "df8.head()"
   ]
  },
  {
   "cell_type": "code",
   "execution_count": 46,
   "id": "841707b5",
   "metadata": {},
   "outputs": [
    {
     "data": {
      "text/plain": [
       "Town/City                    0\n",
       "Users                        0\n",
       "New users                    0\n",
       "Engaged sessions             0\n",
       "Engagement rate              0\n",
       "Engaged sessions per user    0\n",
       "Average engagement time      0\n",
       "Event count                  0\n",
       "Conversions                  0\n",
       "Total revenue                0\n",
       "dtype: int64"
      ]
     },
     "execution_count": 46,
     "metadata": {},
     "output_type": "execute_result"
    }
   ],
   "source": [
    "df8.isna().sum()"
   ]
  },
  {
   "cell_type": "code",
   "execution_count": 47,
   "id": "8090e55b",
   "metadata": {},
   "outputs": [
    {
     "name": "stdout",
     "output_type": "stream",
     "text": [
      "<class 'pandas.core.frame.DataFrame'>\n",
      "RangeIndex: 574 entries, 0 to 573\n",
      "Data columns (total 10 columns):\n",
      " #   Column                     Non-Null Count  Dtype  \n",
      "---  ------                     --------------  -----  \n",
      " 0   Town/City                  574 non-null    object \n",
      " 1   Users                      574 non-null    int64  \n",
      " 2   New users                  574 non-null    int64  \n",
      " 3   Engaged sessions           574 non-null    int64  \n",
      " 4   Engagement rate            574 non-null    float64\n",
      " 5   Engaged sessions per user  574 non-null    float64\n",
      " 6   Average engagement time    574 non-null    float64\n",
      " 7   Event count                574 non-null    int64  \n",
      " 8   Conversions                574 non-null    int64  \n",
      " 9   Total revenue              574 non-null    int64  \n",
      "dtypes: float64(3), int64(6), object(1)\n",
      "memory usage: 45.0+ KB\n"
     ]
    }
   ],
   "source": [
    "df8.info()"
   ]
  },
  {
   "cell_type": "code",
   "execution_count": 48,
   "id": "dccad7d6",
   "metadata": {},
   "outputs": [],
   "source": [
    "df8=df8.rename(columns={'Town/City':'City'})"
   ]
  },
  {
   "cell_type": "code",
   "execution_count": 49,
   "id": "76994c8a",
   "metadata": {},
   "outputs": [
    {
     "data": {
      "image/png": "[encoded data removed]",
      "text/plain": [
       "<Figure size 864x360 with 1 Axes>"
      ]
     },
     "metadata": {
      "needs_background": "light"
     },
     "output_type": "display_data"
    }
   ],
   "source": [
    "plt.figure(figsize=(12,5))\n",
    "city=df8['City']\n",
    "users=df8['Users']\n",
    "top_10_data=sorted(zip(city, users), key=lambda x: x[1], reverse=True)[:10]\n",
    "top_city, top_users = zip(*top_10_data)\n",
    "plt.bar(top_city, top_users)\n",
    "\n",
    "plt.xlabel('cities')\n",
    "plt.ylabel('total users')\n",
    "plt.title('Top 10 Citiwise Report')\n",
    "plt.show()"
   ]
  },
  {
   "cell_type": "markdown",
   "id": "bc00a75f",
   "metadata": {},
   "source": [
    "# Bengaluru has the highest user count among the cities, with a total of 6,097 users. Patna follows closely behind with the second-highest number of users, totaling 1,594.\n"
   ]
  },
  {
   "cell_type": "markdown",
   "id": "d96f6409",
   "metadata": {},
   "source": [
    "# Conversion Report"
   ]
  },
  {
   "cell_type": "code",
   "execution_count": 50,
   "id": "10b82b1b",
   "metadata": {},
   "outputs": [],
   "source": [
    "df9=pd.read_excel(\"C:\\\\Users\\\\mevee\\\\Downloads\\\\App_Analytics_Report.xlsx\", sheet_name='Conversion Report')"
   ]
  },
  {
   "cell_type": "code",
   "execution_count": 51,
   "id": "23843416",
   "metadata": {},
   "outputs": [
    {
     "data": {
      "text/html": [
       "<div>\n",
       "<style scoped>\n",
       "    .dataframe tbody tr th:only-of-type {\n",
       "        vertical-align: middle;\n",
       "    }\n",
       "\n",
       "    .dataframe tbody tr th {\n",
       "        vertical-align: top;\n",
       "    }\n",
       "\n",
       "    .dataframe thead th {\n",
       "        text-align: right;\n",
       "    }\n",
       "</style>\n",
       "<table border=\"1\" class=\"dataframe\">\n",
       "  <thead>\n",
       "    <tr style=\"text-align: right;\">\n",
       "      <th></th>\n",
       "      <th>Event name</th>\n",
       "      <th>Conversions</th>\n",
       "      <th>Total users</th>\n",
       "      <th>Total revenue</th>\n",
       "    </tr>\n",
       "  </thead>\n",
       "  <tbody>\n",
       "    <tr>\n",
       "      <th>0</th>\n",
       "      <td>notification_receive</td>\n",
       "      <td>94890</td>\n",
       "      <td>1311</td>\n",
       "      <td>0</td>\n",
       "    </tr>\n",
       "    <tr>\n",
       "      <th>1</th>\n",
       "      <td>session_start</td>\n",
       "      <td>56203</td>\n",
       "      <td>21674</td>\n",
       "      <td>0</td>\n",
       "    </tr>\n",
       "    <tr>\n",
       "      <th>2</th>\n",
       "      <td>first_open</td>\n",
       "      <td>22872</td>\n",
       "      <td>23059</td>\n",
       "      <td>0</td>\n",
       "    </tr>\n",
       "    <tr>\n",
       "      <th>3</th>\n",
       "      <td>app_remove</td>\n",
       "      <td>12468</td>\n",
       "      <td>12538</td>\n",
       "      <td>0</td>\n",
       "    </tr>\n",
       "    <tr>\n",
       "      <th>4</th>\n",
       "      <td>Promilo111_otp_screen</td>\n",
       "      <td>1738</td>\n",
       "      <td>855</td>\n",
       "      <td>0</td>\n",
       "    </tr>\n",
       "  </tbody>\n",
       "</table>\n",
       "</div>"
      ],
      "text/plain": [
       "              Event name  Conversions  Total users  Total revenue\n",
       "0   notification_receive        94890         1311              0\n",
       "1          session_start        56203        21674              0\n",
       "2             first_open        22872        23059              0\n",
       "3             app_remove        12468        12538              0\n",
       "4  Promilo111_otp_screen         1738          855              0"
      ]
     },
     "execution_count": 51,
     "metadata": {},
     "output_type": "execute_result"
    }
   ],
   "source": [
    "df9.head()"
   ]
  },
  {
   "cell_type": "code",
   "execution_count": 52,
   "id": "d0a4ff1e",
   "metadata": {},
   "outputs": [
    {
     "data": {
      "text/plain": [
       "Event name       0\n",
       "Conversions      0\n",
       "Total users      0\n",
       "Total revenue    0\n",
       "dtype: int64"
      ]
     },
     "execution_count": 52,
     "metadata": {},
     "output_type": "execute_result"
    }
   ],
   "source": [
    "df9.isna().sum()"
   ]
  },
  {
   "cell_type": "code",
   "execution_count": 53,
   "id": "db6ccd41",
   "metadata": {},
   "outputs": [
    {
     "data": {
      "image/png": "[encoded data removed]",
      "text/plain": [
       "<Figure size 864x576 with 1 Axes>"
      ]
     },
     "metadata": {},
     "output_type": "display_data"
    }
   ],
   "source": [
    "plt.figure(figsize=(12,8))\n",
    "grouped_data = df9.groupby('Event name')['Conversions'].sum()\n",
    "\n",
    "grouped_data.plot(kind='pie', autopct='%1.1f%%')\n",
    "\n",
    "plt.show()"
   ]
  },
  {
   "cell_type": "markdown",
   "id": "76daec52",
   "metadata": {},
   "source": [
    "# The event \"notification_receive\" has the highest number of conversions with 94,890."
   ]
  },
  {
   "cell_type": "markdown",
   "id": "9c984fd1",
   "metadata": {},
   "source": [
    "# The event \"session_start\" has the second-highest number of conversions with 56,203."
   ]
  },
  {
   "cell_type": "markdown",
   "id": "935b3a85",
   "metadata": {},
   "source": [
    "# The data provided shows all events having a total revenue of 0."
   ]
  }
 ],
 "metadata": {
  "kernelspec": {
   "display_name": "Python 3 (ipykernel)",
   "language": "python",
   "name": "python3"
  },
  "language_info": {
   "codemirror_mode": {
    "name": "ipython",
    "version": 3
   },
   "file_extension": ".py",
   "mimetype": "text/x-python",
   "name": "python",
   "nbconvert_exporter": "python",
   "pygments_lexer": "ipython3",
   "version": "3.9.12"
  }
 },
 "nbformat": 4,
 "nbformat_minor": 5
}
